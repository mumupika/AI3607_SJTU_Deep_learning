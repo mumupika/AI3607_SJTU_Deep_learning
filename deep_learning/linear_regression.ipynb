{
 "cells": [
  {
   "cell_type": "code",
   "execution_count": 1,
   "metadata": {},
   "outputs": [
    {
     "name": "stderr",
     "output_type": "stream",
     "text": [
      "\u001b[38;5;2m[i 0319 15:51:37.066728 00 log.cc:351] Load log_sync: 1\u001b[m\n",
      "\u001b[38;5;2m[i 0319 15:51:37.120513 00 compiler.py:956] Jittor(1.3.8.5) src: /Users/mumujun/anaconda3/envs/jittor/lib/python3.12/site-packages/jittor\u001b[m\n",
      "\u001b[38;5;2m[i 0319 15:51:37.142321 00 compiler.py:957] clang at /usr/bin/clang++(15.0.0)\u001b[m\n",
      "\u001b[38;5;2m[i 0319 15:51:37.143308 00 compiler.py:958] cache_path: /Users/mumujun/.cache/jittor/jt1.3.8/clang15.0.0/py3.12.2/macOS-13.6.3-ax71/AppleM1Pro/default\u001b[m\n",
      "\u001b[38;5;2m[i 0319 15:51:37.479637 00 __init__.py:227] Total mem: 16.00GB, using 5 procs for compiling.\u001b[m\n",
      "\u001b[38;5;2m[i 0319 15:51:37.598753 00 jit_compiler.cc:28] Load cc_path: /usr/bin/clang++\u001b[m\n"
     ]
    }
   ],
   "source": [
    "import jittor as jt\n",
    "from jittor.optim import Optimizer\n",
    "from jittor import Module\n",
    "import random\n",
    "import numpy as np\n",
    "import matplotlib as mpl\n",
    "import matplotlib.pyplot as plt"
   ]
  },
  {
   "cell_type": "code",
   "execution_count": 2,
   "metadata": {},
   "outputs": [],
   "source": [
    "def data_gen(w,b,num_examples): #@save\n",
    "    X=jt.normal(0,1,(num_examples,len(w))) #y=Xw+b+noise size:1000xlen(w)\n",
    "    y=jt.matmul(X,w)+b #size:1000x1\n",
    "    y+=jt.normal(0,0.03,y.shape) #add noise\n",
    "    return X,y.reshape((-1,1))\n",
    "\n",
    "true_w=jt.array([4,-3.4,2.8]) #1xlen(w)\n",
    "true_b=3\n",
    "features,labels=data_gen(true_w,true_b,1000)\n",
    "#feature: 1000xL\n",
    "#labels: 1000x1"
   ]
  },
  {
   "cell_type": "code",
   "execution_count": 3,
   "metadata": {},
   "outputs": [],
   "source": [
    "ft=features.numpy()\n",
    "lb=labels.numpy()\n",
    "ft=ft[:,1] "
   ]
  },
  {
   "cell_type": "code",
   "execution_count": 4,
   "metadata": {},
   "outputs": [
    {
     "data": {
      "text/plain": [
       "<matplotlib.collections.PathCollection at 0x16017f410>"
      ]
     },
     "execution_count": 4,
     "metadata": {},
     "output_type": "execute_result"
    },
    {
     "data": {
      "image/png": "[encoded data removed]",
      "text/plain": [
       "<Figure size 640x480 with 1 Axes>"
      ]
     },
     "metadata": {},
     "output_type": "display_data"
    }
   ],
   "source": [
    "# print(jt.size(features,1))\n",
    "# print('features: ',ft,'\\nlabel: ',lb)\n",
    "plt.scatter(lb,ft,1)"
   ]
  },
  {
   "cell_type": "code",
   "execution_count": 5,
   "metadata": {},
   "outputs": [],
   "source": [
    "def data_iter(batch_size,features,labels):\n",
    "    num_examples=len(features)\n",
    "    indices=list(range(num_examples)) #[0,1,...,1000]\n",
    "    random.shuffle(indices) #read the data randomly\n",
    "    for i in range(0,num_examples,batch_size):\n",
    "        batch_indices=jt.array(indices[i:min(i+batch_size,num_examples)]) #to choose an array and make a list\n",
    "        #choose the matrix by indices.\n",
    "        yield features[batch_indices],labels[batch_indices]"
   ]
  },
  {
   "cell_type": "code",
   "execution_count": 6,
   "metadata": {},
   "outputs": [
    {
     "name": "stdout",
     "output_type": "stream",
     "text": [
      "jt.Var([[-0.03893229 -2.9905696  -1.7120773 ]\n",
      "        [ 1.2354306  -0.29420775  0.0998992 ]\n",
      "        [ 1.071939    0.5043618  -1.0700399 ]\n",
      "        [-1.0153074  -2.3171968   1.962494  ]\n",
      "        [-0.7834949   1.8761837  -0.01141519]\n",
      "        [ 0.30203664 -0.80141973  0.27243063]\n",
      "        [ 1.6602508  -1.3155715  -0.28602996]\n",
      "        [-0.38050282  0.8764973   1.2686408 ]\n",
      "        [ 0.7770671  -0.36909714  2.6794353 ]\n",
      "        [ 0.5022873   0.08119417 -1.6156458 ]], dtype=float32) \n",
      " jt.Var([[ 8.205757  ]\n",
      "        [ 9.269379  ]\n",
      "        [ 2.5462036 ]\n",
      "        [12.286426  ]\n",
      "        [-6.5205536 ]\n",
      "        [ 7.677786  ]\n",
      "        [13.311278  ]\n",
      "        [ 2.0837538 ]\n",
      "        [14.835167  ]\n",
      "        [ 0.16435415]], dtype=float32)\n"
     ]
    }
   ],
   "source": [
    "batch_size=10\n",
    "for X,y in data_iter(batch_size,features,labels):\n",
    "    print(X,'\\n',y)\n",
    "    break"
   ]
  },
  {
   "cell_type": "code",
   "execution_count": 7,
   "metadata": {},
   "outputs": [],
   "source": [
    "class MyModel(Module):\n",
    "    def __init__(self,l):\n",
    "        super().__init__()\n",
    "        self.w=jt.rand(1,l)\n",
    "        self.b=jt.rand(1)\n",
    "    def execute(self,x):\n",
    "        y_hat=self.b+jt.matmul(x,jt.transpose(self.w))\n",
    "        return y_hat"
   ]
  },
  {
   "cell_type": "code",
   "execution_count": 8,
   "metadata": {},
   "outputs": [],
   "source": [
    "model=MyModel(len(true_w))\n",
    "loss_function=jt.nn.MSELoss()\n",
    "lr=0.1\n",
    "optimizer=jt.nn.SGD(model.parameters(),lr)"
   ]
  },
  {
   "cell_type": "code",
   "execution_count": 9,
   "metadata": {},
   "outputs": [],
   "source": [
    "def train(model,x_train,y_train,loss,opt):\n",
    "    model.train()\n",
    "    y_hat=model(x_train)\n",
    "    l=loss(y_train,y_hat)\n",
    "    optimizer.step(l)\n",
    "    return l\n"
   ]
  },
  {
   "cell_type": "code",
   "execution_count": 10,
   "metadata": {},
   "outputs": [],
   "source": [
    "def val(model, x_val, y_val, loss_function):\n",
    "    model.eval()                                 \n",
    "    y_pred = model(x_val)                        \n",
    "    loss = loss_function(y_val, y_pred)               \n",
    "    return loss                                  "
   ]
  },
  {
   "cell_type": "code",
   "execution_count": 11,
   "metadata": {},
   "outputs": [
    {
     "name": "stdout",
     "output_type": "stream",
     "text": [
      "Before training: \n",
      " {'w': jt.Var([[0.991722   0.41337296 0.926833  ]], dtype=float32), 'b': jt.Var([0.15439433], dtype=float32)}\n"
     ]
    },
    {
     "data": {
      "image/png": "[encoded data removed]",
      "text/plain": [
       "<Figure size 640x480 with 1 Axes>"
      ]
     },
     "metadata": {},
     "output_type": "display_data"
    },
    {
     "name": "stdout",
     "output_type": "stream",
     "text": [
      "After training: \n",
      " {'w': jt.Var([[ 4.001703  -3.4033418  2.8037632]], dtype=float32), 'b': jt.Var([3.0002983], dtype=float32)}\n",
      "True w: jt.Var([ 4.  -3.4  2.8], dtype=float32) True b: 3\n"
     ]
    }
   ],
   "source": [
    "# 打印训练前的模型参数\n",
    "print(\"Before training: \\n\", model.state_dict())\n",
    "\n",
    "# 设置迭代次数（在这个案例中，一个纪元（Epoch）即是一个迭代（Iteration））\n",
    "epochs = 500\n",
    "\n",
    "# 初始化空列表，分别用于记录训练集和验证集上的 Loss 值\n",
    "train_loss_list = []\n",
    "batch_size=10 #1000/10=100\n",
    "# 循环迭代训练\n",
    "for epoch in range(epochs):\n",
    "    # 在训练集上进行训练，将更新模型参数。\n",
    "    for x_train,y_train in data_iter(batch_size,features,labels):\n",
    "        train_loss = train(model, x_train, y_train, loss_function, optimizer)\n",
    "        train_loss_list.append(train_loss)\n",
    "    \n",
    "plt.plot(train_loss_list[:20],'r',label=\"training_loss\")\n",
    "plt.xlabel(\"Epochs\")\n",
    "plt.ylabel(\"Loss\")\n",
    "plt.legend()\n",
    "plt.show()\n",
    "# 打印训练结束后的模型参数\n",
    "print(\"After training: \\n\", model.state_dict())\n",
    "print(\"True w:\",true_w,\"True b:\",true_b)"
   ]
  }
 ],
 "metadata": {
  "kernelspec": {
   "display_name": "jittor",
   "language": "python",
   "name": "python3"
  },
  "language_info": {
   "codemirror_mode": {
    "name": "ipython",
    "version": 3
   },
   "file_extension": ".py",
   "mimetype": "text/x-python",
   "name": "python",
   "nbconvert_exporter": "python",
   "pygments_lexer": "ipython3",
   "version": "3.12.2"
  }
 },
 "nbformat": 4,
 "nbformat_minor": 2
}
