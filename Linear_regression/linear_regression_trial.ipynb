{
 "cells": [
  {
   "cell_type": "code",
   "execution_count": 158,
   "metadata": {},
   "outputs": [],
   "source": [
    "import jittor as jt\n",
    "from jittor.optim import Optimizer\n",
    "from jittor import Module\n",
    "import random\n",
    "import numpy as np\n",
    "import matplotlib as mpl\n",
    "import matplotlib.pyplot as plt"
   ]
  },
  {
   "cell_type": "code",
   "execution_count": 159,
   "metadata": {},
   "outputs": [],
   "source": [
    "def data_gen(w,b,num_examples):\n",
    "    X=jt.normal(0,1,(num_examples,1))\n",
    "    y=X*w+b\n",
    "    y+=jt.normal(0,0.5,y.shape)\n",
    "    return X,y.reshape((-1,1))\n",
    "\n",
    "true_w=4.5\n",
    "true_b=3\n",
    "features,labels=data_gen(true_w,true_b,1000)"
   ]
  },
  {
   "cell_type": "code",
   "execution_count": 160,
   "metadata": {},
   "outputs": [
    {
     "data": {
      "text/plain": [
       "<matplotlib.collections.PathCollection at 0x178e2cec0>"
      ]
     },
     "execution_count": 160,
     "metadata": {},
     "output_type": "execute_result"
    },
    {
     "data": {
      "image/png": "[encoded data removed]",
      "text/plain": [
       "<Figure size 640x480 with 1 Axes>"
      ]
     },
     "metadata": {},
     "output_type": "display_data"
    }
   ],
   "source": [
    "plt.scatter(labels,features,1)"
   ]
  },
  {
   "cell_type": "code",
   "execution_count": 161,
   "metadata": {},
   "outputs": [],
   "source": [
    "def data_iter(batch_size,features,labels):\n",
    "    num_examples=len(features)\n",
    "    indices=list(range(num_examples-300))\n",
    "    for i in range(0,num_examples-300,batch_size):\n",
    "        batch_indices=jt.array(indices[i:min(i+batch_size,num_examples-300)])\n",
    "        yield features[batch_indices],labels[batch_indices]\n",
    "\n",
    "def data_valid(batch_size,features,labels):\n",
    "    indices=list(range(len(features)-300,len(features)))\n",
    "    for i in range(0,len(features)-700,batch_size):\n",
    "        batch_indices=jt.array(indices[i:min(i+batch_size,len(features))])\n",
    "        yield features[batch_indices],labels[batch_indices]"
   ]
  },
  {
   "cell_type": "code",
   "execution_count": 162,
   "metadata": {},
   "outputs": [
    {
     "name": "stdout",
     "output_type": "stream",
     "text": [
      "jt.Var([[-1.1404634 ]\n",
      "        [-1.6887717 ]\n",
      "        [-0.61736923]\n",
      "        [-0.30889538]\n",
      "        [ 0.23076354]\n",
      "        [-0.21233061]\n",
      "        [ 0.64354485]\n",
      "        [ 0.5360769 ]\n",
      "        [-1.1177293 ]\n",
      "        [ 0.09676252]], dtype=float32) \n",
      " jt.Var([[-2.387966  ]\n",
      "        [-5.7374997 ]\n",
      "        [-0.08160594]\n",
      "        [ 1.2219307 ]\n",
      "        [ 3.7164218 ]\n",
      "        [ 1.4101174 ]\n",
      "        [ 6.1595287 ]\n",
      "        [ 5.3925967 ]\n",
      "        [-1.4562435 ]\n",
      "        [ 3.668683  ]], dtype=float32)\n",
      "jt.Var([[ 0.92490876]\n",
      "        [ 0.9288419 ]\n",
      "        [ 0.7947629 ]\n",
      "        [ 0.4180048 ]\n",
      "        [-1.3930305 ]\n",
      "        [ 0.19272342]\n",
      "        [ 0.9851784 ]\n",
      "        [-0.06940585]\n",
      "        [-0.08872447]\n",
      "        [-0.38221368]], dtype=float32) \n",
      " jt.Var([[ 7.250523 ]\n",
      "        [ 7.563329 ]\n",
      "        [ 6.5981746]\n",
      "        [ 5.017308 ]\n",
      "        [-2.6998236]\n",
      "        [ 3.809952 ]\n",
      "        [ 7.947534 ]\n",
      "        [ 2.2692916]\n",
      "        [ 2.3877666]\n",
      "        [ 1.6859437]], dtype=float32)\n"
     ]
    }
   ],
   "source": [
    "batch_size=10\n",
    "for X,y in data_iter(batch_size,features,labels):\n",
    "    print(X,'\\n',y)\n",
    "    break\n",
    "\n",
    "for X_v,y_v in data_valid(batch_size,features,labels):\n",
    "    print(X_v,'\\n',y_v)\n",
    "    break"
   ]
  },
  {
   "cell_type": "code",
   "execution_count": 163,
   "metadata": {},
   "outputs": [],
   "source": [
    "class Mymodel(Module):\n",
    "    def __init__(self):\n",
    "        super().__init__()\n",
    "        self.w=jt.rand(1)\n",
    "        self.b=jt.rand(1)\n",
    "    def execute(self,x):\n",
    "        y_hat=self.b+x*self.w \n",
    "        return y_hat"
   ]
  },
  {
   "cell_type": "code",
   "execution_count": 164,
   "metadata": {},
   "outputs": [],
   "source": [
    "model=Mymodel()\n",
    "loss_function=jt.nn.MSELoss()\n",
    "lr=0.1\n",
    "optimizer=jt.nn.SGD(model.parameters(),lr,momentum=0.3)"
   ]
  },
  {
   "cell_type": "code",
   "execution_count": 165,
   "metadata": {},
   "outputs": [],
   "source": [
    "def train(model,x_train,y_train,loss,opt):\n",
    "    model.train()\n",
    "    y_hat=model(x_train)\n",
    "    l=loss(y_train,y_hat)\n",
    "    optimizer.step(l)\n",
    "    return l\n",
    "\n",
    "def val(model,x_val,y_val,loss_function):\n",
    "    model.eval()\n",
    "    y_pred=model(x_val)\n",
    "    loss=loss_function(y_val,y_pred)\n",
    "    return loss\n"
   ]
  },
  {
   "cell_type": "code",
   "execution_count": 166,
   "metadata": {},
   "outputs": [
    {
     "name": "stdout",
     "output_type": "stream",
     "text": [
      "Before Training: \n",
      " {'w': jt.Var([0.33339652], dtype=float32), 'b': jt.Var([0.38306478], dtype=float32)}\n",
      "epoch  0  avg training loss:  jt.Var([7.7977915], dtype=float32)\n",
      "epoch  10  avg training loss:  jt.Var([0.22997057], dtype=float32)\n",
      "epoch  20  avg training loss:  jt.Var([0.22997057], dtype=float32)\n",
      "epoch  30  avg training loss:  jt.Var([0.22997057], dtype=float32)\n",
      "epoch  40  avg training loss:  jt.Var([0.22997057], dtype=float32)\n",
      "epoch  50  avg training loss:  jt.Var([0.22997057], dtype=float32)\n",
      "epoch  60  avg training loss:  jt.Var([0.22997057], dtype=float32)\n",
      "epoch  70  avg training loss:  jt.Var([0.22997057], dtype=float32)\n",
      "epoch  80  avg training loss:  jt.Var([0.22997057], dtype=float32)\n",
      "epoch  90  avg training loss:  jt.Var([0.22997057], dtype=float32)\n",
      "Now Validity...\n",
      "epoch  0  avg validation loss:  jt.Var([0.24278577], dtype=float32)\n",
      "epoch  10  avg validation loss:  jt.Var([0.24278577], dtype=float32)\n",
      "epoch  20  avg validation loss:  jt.Var([0.24278577], dtype=float32)\n",
      "epoch  30  avg validation loss:  jt.Var([0.24278577], dtype=float32)\n",
      "epoch  40  avg validation loss:  jt.Var([0.24278577], dtype=float32)\n",
      "epoch  50  avg validation loss:  jt.Var([0.24278577], dtype=float32)\n",
      "epoch  60  avg validation loss:  jt.Var([0.24278577], dtype=float32)\n",
      "epoch  70  avg validation loss:  jt.Var([0.24278577], dtype=float32)\n",
      "epoch  80  avg validation loss:  jt.Var([0.24278577], dtype=float32)\n",
      "epoch  90  avg validation loss:  jt.Var([0.24278577], dtype=float32)\n"
     ]
    },
    {
     "data": {
      "image/png": "[encoded data removed]",
      "text/plain": [
       "<Figure size 640x480 with 1 Axes>"
      ]
     },
     "metadata": {},
     "output_type": "display_data"
    }
   ],
   "source": [
    "print(\"Before Training: \\n\",model.state_dict())\n",
    "epochs=100\n",
    "train_loss_list=[]\n",
    "val_loss_list=[]\n",
    "batch_size=100\n",
    "\n",
    "for epoch in range(epochs):\n",
    "    epoch_train_loss=0\n",
    "    count=0\n",
    "    for X,y in data_iter(batch_size,features,labels):\n",
    "        train_loss=train(model,X,y,loss_function,optimizer)\n",
    "        epoch_train_loss+=train_loss\n",
    "        count+=1\n",
    "        train_loss_list.append(train_loss)\n",
    "    if epoch%10==0:\n",
    "        print(\"epoch \",epoch,\" avg training loss: \",epoch_train_loss/count)\n",
    "\n",
    "print(\"Now Validity...\")\n",
    "\n",
    "for epoch in range(epochs):\n",
    "    epoch_val_loss=0\n",
    "    count=0\n",
    "    for X,y in data_valid(batch_size,features,labels):\n",
    "        valid_loss=val(model,X,y,loss_function)\n",
    "        val_loss_list.append(valid_loss)\n",
    "        epoch_val_loss+=valid_loss\n",
    "        count+=1\n",
    "    if epoch%10==0:\n",
    "        print(\"epoch \",epoch,\" avg validation loss: \",epoch_val_loss/count)\n",
    "    \n",
    "\n",
    "plt.plot(train_loss_list[:20],'r',label=\"training_loss\")\n",
    "plt.plot(val_loss_list[:20],'g',label=\"valid_loss\")\n",
    "plt.xlabel(\"Epochs\")\n",
    "plt.ylabel(\"Loss\")\n",
    "plt.legend()\n",
    "plt.show()"
   ]
  }
 ],
 "metadata": {
  "kernelspec": {
   "display_name": "jittor",
   "language": "python",
   "name": "python3"
  },
  "language_info": {
   "codemirror_mode": {
    "name": "ipython",
    "version": 3
   },
   "file_extension": ".py",
   "mimetype": "text/x-python",
   "name": "python",
   "nbconvert_exporter": "python",
   "pygments_lexer": "ipython3",
   "version": "3.12.2"
  }
 },
 "nbformat": 4,
 "nbformat_minor": 2
}
