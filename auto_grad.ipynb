{
 "cells": [
  {
   "cell_type": "code",
   "execution_count": 2,
   "metadata": {},
   "outputs": [
    {
     "name": "stderr",
     "output_type": "stream",
     "text": [
      "\u001b[38;5;2m[i 0326 13:08:02.694453 00 log.cc:351] Load log_sync: 1\u001b[m\n",
      "\u001b[38;5;2m[i 0326 13:08:02.698678 00 compiler.py:956] Jittor(1.3.8.5) src: /Users/mumujun/anaconda3/envs/jittor/lib/python3.12/site-packages/jittor\u001b[m\n",
      "\u001b[38;5;2m[i 0326 13:08:02.720916 00 compiler.py:957] clang at /usr/bin/clang++(15.0.0)\u001b[m\n",
      "\u001b[38;5;2m[i 0326 13:08:02.721816 00 compiler.py:958] cache_path: /Users/mumujun/.cache/jittor/jt1.3.8/clang15.0.0/py3.12.2/macOS-13.6.3-ax71/AppleM1Pro/default\u001b[m\n",
      "\u001b[38;5;2m[i 0326 13:08:03.087700 00 __init__.py:227] Total mem: 16.00GB, using 5 procs for compiling.\u001b[m\n",
      "\u001b[38;5;2m[i 0326 13:08:03.225846 00 jit_compiler.cc:28] Load cc_path: /usr/bin/clang++\u001b[m\n"
     ]
    }
   ],
   "source": [
    "import jittor as jt\n",
    "from jittor.optim import Optimizer"
   ]
  },
  {
   "cell_type": "code",
   "execution_count": 13,
   "metadata": {},
   "outputs": [
    {
     "data": {
      "text/plain": [
       "jt.Var([0. 1. 2. 3.], dtype=float32)"
      ]
     },
     "execution_count": 13,
     "metadata": {},
     "output_type": "execute_result"
    }
   ],
   "source": [
    "x=jt.arange(4.0,dtype=float)\n",
    "x"
   ]
  },
  {
   "cell_type": "code",
   "execution_count": 14,
   "metadata": {},
   "outputs": [
    {
     "data": {
      "text/plain": [
       "jt.Var([28.], dtype=float32)"
      ]
     },
     "execution_count": 14,
     "metadata": {},
     "output_type": "execute_result"
    }
   ],
   "source": [
    "y=2*jt.matmul(x,x)\n",
    "y"
   ]
  },
  {
   "cell_type": "code",
   "execution_count": 15,
   "metadata": {},
   "outputs": [
    {
     "data": {
      "text/plain": [
       "(jt.Var([1164.  828.  996.  660.  324.], dtype=float32),\n",
       " jt.Var([8100. 2916. 5184. 1296.    0.], dtype=float32),\n",
       " jt.Var([1620.  972. 1296.  648.    0.], dtype=float32))"
      ]
     },
     "execution_count": 15,
     "metadata": {},
     "output_type": "execute_result"
    }
   ],
   "source": [
    "class MyOptimizer(Optimizer):\n",
    "    def __init__(self, params,lr):\n",
    "        super(MyOptimizer, self).__init__(params,lr)     \n",
    "    def step(self, loss):\n",
    "        self.zero_grad()\n",
    "        self.backward(loss)\n",
    "\n",
    "optimizer=MyOptimizer([x],0)\n",
    "optimizer.step(y)\n",
    "x.opt_grad(optimizer)\n",
    "\n",
    "\n",
    "z=jt.Var([5,3,4,2,0])\n",
    "z=z.float()\n",
    "f=6*jt.matmul(z,z)*z\n",
    "optimizer=MyOptimizer([z],0)\n",
    "optimizer.step(f)\n",
    "f2=f*z\n",
    "z_grad=z.opt_grad(optimizer)\n",
    "z_grad,f2,f"
   ]
  },
  {
   "cell_type": "markdown",
   "metadata": {},
   "source": [
    "The above code is equal to:(pytorch)\n",
    "\n",
    "x=torch.arange(4.0)\n",
    "\n",
    "x.require_grad_(True)\n",
    "\n",
    "y=2*torch.dot(x,x)\n",
    "\n",
    "y.backward()\n",
    "\n",
    "x.grad"
   ]
  }
 ],
 "metadata": {
  "kernelspec": {
   "display_name": "jittor",
   "language": "python",
   "name": "python3"
  },
  "language_info": {
   "codemirror_mode": {
    "name": "ipython",
    "version": 3
   },
   "file_extension": ".py",
   "mimetype": "text/x-python",
   "name": "python",
   "nbconvert_exporter": "python",
   "pygments_lexer": "ipython3",
   "version": "3.12.2"
  }
 },
 "nbformat": 4,
 "nbformat_minor": 2
}
